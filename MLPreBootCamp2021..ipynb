{
 "cells": [
  {
   "cell_type": "markdown",
   "metadata": {},
   "source": [
    "## Importing The Required Libraries/Modules"
   ]
  },
  {
   "cell_type": "code",
   "execution_count": 1,
   "metadata": {},
   "outputs": [],
   "source": [
    "import numpy as np\n",
    "import pandas as pd\n",
    "import matplotlib.pyplot as plt\n",
    "%matplotlib inline\n",
    "from sklearn.base import BaseEstimator, TransformerMixin\n",
    "from sklearn.preprocessing import StandardScaler, OneHotEncoder, PolynomialFeatures\n",
    "from sklearn.model_selection import train_test_split\n",
    "from sklearn.pipeline import Pipeline, FeatureUnion\n",
    "from sklearn.metrics import accuracy_score\n",
    "from sklearn.ensemble import RandomForestClassifier"
   ]
  },
  {
   "cell_type": "markdown",
   "metadata": {},
   "source": [
    "## Reading in the Train, Test and Sample_Submission Datasets"
   ]
  },
  {
   "cell_type": "code",
   "execution_count": 2,
   "metadata": {
    "scrolled": true
   },
   "outputs": [],
   "source": [
    "data = pd.read_csv(\"train.csv\")"
   ]
  },
  {
   "cell_type": "code",
   "execution_count": 3,
   "metadata": {},
   "outputs": [],
   "source": [
    "test_data = pd.read_csv(\"test.csv\")"
   ]
  },
  {
   "cell_type": "code",
   "execution_count": 4,
   "metadata": {},
   "outputs": [],
   "source": [
    "submission_data = pd.read_csv(\"sample_submission.csv\")"
   ]
  },
  {
   "cell_type": "markdown",
   "metadata": {},
   "source": [
    "## Inspecting the properties of the Dataset"
   ]
  },
  {
   "cell_type": "code",
   "execution_count": 5,
   "metadata": {},
   "outputs": [
    {
     "data": {
      "text/html": [
       "<div>\n",
       "<style scoped>\n",
       "    .dataframe tbody tr th:only-of-type {\n",
       "        vertical-align: middle;\n",
       "    }\n",
       "\n",
       "    .dataframe tbody tr th {\n",
       "        vertical-align: top;\n",
       "    }\n",
       "\n",
       "    .dataframe thead th {\n",
       "        text-align: right;\n",
       "    }\n",
       "</style>\n",
       "<table border=\"1\" class=\"dataframe\">\n",
       "  <thead>\n",
       "    <tr style=\"text-align: right;\">\n",
       "      <th></th>\n",
       "      <th>Earnings</th>\n",
       "      <th>Customer_Worth</th>\n",
       "      <th>Premium_Auto_per_Month</th>\n",
       "      <th>Total Claim Amount</th>\n",
       "      <th>Months Since Last Claim</th>\n",
       "      <th>Months Since Policy Inception</th>\n",
       "      <th>Counts_of_Open_Complaints</th>\n",
       "      <th>No_Of_POlicy</th>\n",
       "      <th>Best_Offer</th>\n",
       "    </tr>\n",
       "  </thead>\n",
       "  <tbody>\n",
       "    <tr>\n",
       "      <th>count</th>\n",
       "      <td>6393.000000</td>\n",
       "      <td>6393.000000</td>\n",
       "      <td>6393.000000</td>\n",
       "      <td>6393.000000</td>\n",
       "      <td>6393.000000</td>\n",
       "      <td>6393.000000</td>\n",
       "      <td>6393.000000</td>\n",
       "      <td>6393.000000</td>\n",
       "      <td>6393.000000</td>\n",
       "    </tr>\n",
       "    <tr>\n",
       "      <th>mean</th>\n",
       "      <td>75460.097294</td>\n",
       "      <td>7977.945276</td>\n",
       "      <td>186.728297</td>\n",
       "      <td>435.023938</td>\n",
       "      <td>15.100266</td>\n",
       "      <td>47.987956</td>\n",
       "      <td>0.768340</td>\n",
       "      <td>2.986235</td>\n",
       "      <td>0.968247</td>\n",
       "    </tr>\n",
       "    <tr>\n",
       "      <th>std</th>\n",
       "      <td>60449.019210</td>\n",
       "      <td>6718.376651</td>\n",
       "      <td>69.099601</td>\n",
       "      <td>292.522148</td>\n",
       "      <td>10.112762</td>\n",
       "      <td>27.853750</td>\n",
       "      <td>1.845483</td>\n",
       "      <td>2.399311</td>\n",
       "      <td>1.010780</td>\n",
       "    </tr>\n",
       "    <tr>\n",
       "      <th>min</th>\n",
       "      <td>0.000000</td>\n",
       "      <td>1900.007675</td>\n",
       "      <td>122.000000</td>\n",
       "      <td>0.099007</td>\n",
       "      <td>0.000000</td>\n",
       "      <td>0.000000</td>\n",
       "      <td>0.000000</td>\n",
       "      <td>1.000000</td>\n",
       "      <td>0.000000</td>\n",
       "    </tr>\n",
       "    <tr>\n",
       "      <th>25%</th>\n",
       "      <td>20674.000000</td>\n",
       "      <td>4070.092649</td>\n",
       "      <td>136.000000</td>\n",
       "      <td>273.250112</td>\n",
       "      <td>6.000000</td>\n",
       "      <td>24.000000</td>\n",
       "      <td>0.000000</td>\n",
       "      <td>1.000000</td>\n",
       "      <td>0.000000</td>\n",
       "    </tr>\n",
       "    <tr>\n",
       "      <th>50%</th>\n",
       "      <td>67934.000000</td>\n",
       "      <td>5813.996703</td>\n",
       "      <td>166.000000</td>\n",
       "      <td>381.118731</td>\n",
       "      <td>14.000000</td>\n",
       "      <td>48.000000</td>\n",
       "      <td>0.000000</td>\n",
       "      <td>2.000000</td>\n",
       "      <td>1.000000</td>\n",
       "    </tr>\n",
       "    <tr>\n",
       "      <th>75%</th>\n",
       "      <td>124652.000000</td>\n",
       "      <td>8988.610653</td>\n",
       "      <td>218.000000</td>\n",
       "      <td>547.200000</td>\n",
       "      <td>23.000000</td>\n",
       "      <td>71.000000</td>\n",
       "      <td>0.000000</td>\n",
       "      <td>4.000000</td>\n",
       "      <td>2.000000</td>\n",
       "    </tr>\n",
       "    <tr>\n",
       "      <th>max</th>\n",
       "      <td>199962.000000</td>\n",
       "      <td>83327.381190</td>\n",
       "      <td>594.000000</td>\n",
       "      <td>2893.239678</td>\n",
       "      <td>35.000000</td>\n",
       "      <td>99.000000</td>\n",
       "      <td>10.000000</td>\n",
       "      <td>9.000000</td>\n",
       "      <td>3.000000</td>\n",
       "    </tr>\n",
       "  </tbody>\n",
       "</table>\n",
       "</div>"
      ],
      "text/plain": [
       "            Earnings  Customer_Worth  Premium_Auto_per_Month  \\\n",
       "count    6393.000000     6393.000000             6393.000000   \n",
       "mean    75460.097294     7977.945276              186.728297   \n",
       "std     60449.019210     6718.376651               69.099601   \n",
       "min         0.000000     1900.007675              122.000000   \n",
       "25%     20674.000000     4070.092649              136.000000   \n",
       "50%     67934.000000     5813.996703              166.000000   \n",
       "75%    124652.000000     8988.610653              218.000000   \n",
       "max    199962.000000    83327.381190              594.000000   \n",
       "\n",
       "       Total Claim Amount  Months Since Last Claim  \\\n",
       "count         6393.000000              6393.000000   \n",
       "mean           435.023938                15.100266   \n",
       "std            292.522148                10.112762   \n",
       "min              0.099007                 0.000000   \n",
       "25%            273.250112                 6.000000   \n",
       "50%            381.118731                14.000000   \n",
       "75%            547.200000                23.000000   \n",
       "max           2893.239678                35.000000   \n",
       "\n",
       "       Months Since Policy Inception  Counts_of_Open_Complaints  No_Of_POlicy  \\\n",
       "count                    6393.000000                6393.000000   6393.000000   \n",
       "mean                       47.987956                   0.768340      2.986235   \n",
       "std                        27.853750                   1.845483      2.399311   \n",
       "min                         0.000000                   0.000000      1.000000   \n",
       "25%                        24.000000                   0.000000      1.000000   \n",
       "50%                        48.000000                   0.000000      2.000000   \n",
       "75%                        71.000000                   0.000000      4.000000   \n",
       "max                        99.000000                  10.000000      9.000000   \n",
       "\n",
       "        Best_Offer  \n",
       "count  6393.000000  \n",
       "mean      0.968247  \n",
       "std       1.010780  \n",
       "min       0.000000  \n",
       "25%       0.000000  \n",
       "50%       1.000000  \n",
       "75%       2.000000  \n",
       "max       3.000000  "
      ]
     },
     "execution_count": 5,
     "metadata": {},
     "output_type": "execute_result"
    }
   ],
   "source": [
    "data.describe()"
   ]
  },
  {
   "cell_type": "code",
   "execution_count": 6,
   "metadata": {
    "scrolled": true
   },
   "outputs": [
    {
     "name": "stdout",
     "output_type": "stream",
     "text": [
      "<class 'pandas.core.frame.DataFrame'>\n",
      "RangeIndex: 6393 entries, 0 to 6392\n",
      "Data columns (total 24 columns):\n",
      " #   Column                         Non-Null Count  Dtype  \n",
      "---  ------                         --------------  -----  \n",
      " 0   Customer_ID                    6393 non-null   object \n",
      " 1   Sex                            6393 non-null   object \n",
      " 2   Earnings                       6393 non-null   int64  \n",
      " 3   Region_Code                    6393 non-null   object \n",
      " 4   Marital Status                 6393 non-null   object \n",
      " 5   State_of_Origin                6393 non-null   object \n",
      " 6   Customer_Worth                 6393 non-null   float64\n",
      " 7   Customer_Reply                 6393 non-null   object \n",
      " 8   Plan                           6393 non-null   object \n",
      " 9   Certification                  6393 non-null   object \n",
      " 10  Effective To Date              6393 non-null   object \n",
      " 11  Status_of_Employment           6393 non-null   object \n",
      " 12  Premium_Auto_per_Month         6393 non-null   int64  \n",
      " 13  Total Claim Amount             6393 non-null   float64\n",
      " 14  Vehicle Class                  6393 non-null   object \n",
      " 15  Vehicle Size                   6393 non-null   object \n",
      " 16  Months Since Last Claim        6393 non-null   int64  \n",
      " 17  Months Since Policy Inception  6393 non-null   int64  \n",
      " 18  Counts_of_Open_Complaints      6393 non-null   int64  \n",
      " 19  No_Of_POlicy                   6393 non-null   int64  \n",
      " 20  kind_of_policy                 6393 non-null   object \n",
      " 21  Active_Policy                  6393 non-null   object \n",
      " 22  Sales Channel                  6393 non-null   object \n",
      " 23  Best_Offer                     6393 non-null   int64  \n",
      "dtypes: float64(2), int64(7), object(15)\n",
      "memory usage: 1.2+ MB\n"
     ]
    }
   ],
   "source": [
    "data.info()"
   ]
  },
  {
   "cell_type": "code",
   "execution_count": 7,
   "metadata": {},
   "outputs": [
    {
     "data": {
      "text/plain": [
       "153432"
      ]
     },
     "execution_count": 7,
     "metadata": {},
     "output_type": "execute_result"
    }
   ],
   "source": [
    "data.size"
   ]
  },
  {
   "cell_type": "code",
   "execution_count": 8,
   "metadata": {},
   "outputs": [
    {
     "data": {
      "text/plain": [
       "2"
      ]
     },
     "execution_count": 8,
     "metadata": {},
     "output_type": "execute_result"
    }
   ],
   "source": [
    "data.ndim"
   ]
  },
  {
   "cell_type": "code",
   "execution_count": 9,
   "metadata": {},
   "outputs": [
    {
     "data": {
      "text/plain": [
       "(6393, 24)"
      ]
     },
     "execution_count": 9,
     "metadata": {},
     "output_type": "execute_result"
    }
   ],
   "source": [
    "data.shape"
   ]
  },
  {
   "cell_type": "code",
   "execution_count": 10,
   "metadata": {},
   "outputs": [
    {
     "data": {
      "text/plain": [
       "RangeIndex(start=0, stop=6393, step=1)"
      ]
     },
     "execution_count": 10,
     "metadata": {},
     "output_type": "execute_result"
    }
   ],
   "source": [
    "data.index"
   ]
  },
  {
   "cell_type": "code",
   "execution_count": 11,
   "metadata": {},
   "outputs": [
    {
     "data": {
      "text/plain": [
       "object     15\n",
       "int64       7\n",
       "float64     2\n",
       "dtype: int64"
      ]
     },
     "execution_count": 11,
     "metadata": {},
     "output_type": "execute_result"
    }
   ],
   "source": [
    "data.dtypes.value_counts()"
   ]
  },
  {
   "cell_type": "code",
   "execution_count": 12,
   "metadata": {
    "scrolled": true
   },
   "outputs": [
    {
     "data": {
      "text/plain": [
       "Customer_ID                       object\n",
       "Sex                               object\n",
       "Earnings                           int64\n",
       "Region_Code                       object\n",
       "Marital Status                    object\n",
       "State_of_Origin                   object\n",
       "Customer_Worth                   float64\n",
       "Customer_Reply                    object\n",
       "Plan                              object\n",
       "Certification                     object\n",
       "Effective To Date                 object\n",
       "Status_of_Employment              object\n",
       "Premium_Auto_per_Month             int64\n",
       "Total Claim Amount               float64\n",
       "Vehicle Class                     object\n",
       "Vehicle Size                      object\n",
       "Months Since Last Claim            int64\n",
       "Months Since Policy Inception      int64\n",
       "Counts_of_Open_Complaints          int64\n",
       "No_Of_POlicy                       int64\n",
       "kind_of_policy                    object\n",
       "Active_Policy                     object\n",
       "Sales Channel                     object\n",
       "Best_Offer                         int64\n",
       "dtype: object"
      ]
     },
     "execution_count": 12,
     "metadata": {},
     "output_type": "execute_result"
    }
   ],
   "source": [
    "data.dtypes"
   ]
  },
  {
   "cell_type": "code",
   "execution_count": 13,
   "metadata": {},
   "outputs": [
    {
     "data": {
      "text/plain": [
       "0"
      ]
     },
     "execution_count": 13,
     "metadata": {},
     "output_type": "execute_result"
    }
   ],
   "source": [
    "data.duplicated().sum()"
   ]
  },
  {
   "cell_type": "code",
   "execution_count": 14,
   "metadata": {
    "scrolled": true
   },
   "outputs": [
    {
     "data": {
      "text/plain": [
       "Customer_ID                      0\n",
       "Sex                              0\n",
       "Earnings                         0\n",
       "Region_Code                      0\n",
       "Marital Status                   0\n",
       "State_of_Origin                  0\n",
       "Customer_Worth                   0\n",
       "Customer_Reply                   0\n",
       "Plan                             0\n",
       "Certification                    0\n",
       "Effective To Date                0\n",
       "Status_of_Employment             0\n",
       "Premium_Auto_per_Month           0\n",
       "Total Claim Amount               0\n",
       "Vehicle Class                    0\n",
       "Vehicle Size                     0\n",
       "Months Since Last Claim          0\n",
       "Months Since Policy Inception    0\n",
       "Counts_of_Open_Complaints        0\n",
       "No_Of_POlicy                     0\n",
       "kind_of_policy                   0\n",
       "Active_Policy                    0\n",
       "Sales Channel                    0\n",
       "Best_Offer                       0\n",
       "dtype: int64"
      ]
     },
     "execution_count": 14,
     "metadata": {},
     "output_type": "execute_result"
    }
   ],
   "source": [
    "data.isnull().sum()"
   ]
  },
  {
   "cell_type": "markdown",
   "metadata": {},
   "source": [
    "## Deeper inspection of the Train Dataset on a columnal basis"
   ]
  },
  {
   "cell_type": "code",
   "execution_count": 15,
   "metadata": {},
   "outputs": [
    {
     "data": {
      "text/plain": [
       "array(['Female', 'Male'], dtype=object)"
      ]
     },
     "execution_count": 15,
     "metadata": {},
     "output_type": "execute_result"
    }
   ],
   "source": [
    "data[\"Sex\"].unique()"
   ]
  },
  {
   "cell_type": "code",
   "execution_count": 16,
   "metadata": {},
   "outputs": [
    {
     "data": {
      "text/plain": [
       "Female    3259\n",
       "Male      3134\n",
       "Name: Sex, dtype: int64"
      ]
     },
     "execution_count": 16,
     "metadata": {},
     "output_type": "execute_result"
    }
   ],
   "source": [
    "data[\"Sex\"].value_counts()"
   ]
  },
  {
   "cell_type": "code",
   "execution_count": 17,
   "metadata": {},
   "outputs": [
    {
     "data": {
      "text/plain": [
       "array([ 97134,  53754,  25804, ...,  24360, 175914, 156184], dtype=int64)"
      ]
     },
     "execution_count": 17,
     "metadata": {},
     "output_type": "execute_result"
    }
   ],
   "source": [
    "data[\"Earnings\"].unique()"
   ]
  },
  {
   "cell_type": "code",
   "execution_count": 18,
   "metadata": {},
   "outputs": [
    {
     "data": {
      "text/plain": [
       "0         1584\n",
       "191394       9\n",
       "133678       6\n",
       "79708        6\n",
       "51930        6\n",
       "          ... \n",
       "74898        1\n",
       "120932       1\n",
       "54416        1\n",
       "156254       1\n",
       "77740        1\n",
       "Name: Earnings, Length: 4124, dtype: int64"
      ]
     },
     "execution_count": 18,
     "metadata": {},
     "output_type": "execute_result"
    }
   ],
   "source": [
    "data[\"Earnings\"].value_counts()"
   ]
  },
  {
   "cell_type": "code",
   "execution_count": 19,
   "metadata": {},
   "outputs": [
    {
     "data": {
      "text/plain": [
       "array(['Suburban', 'Rural', 'Urban'], dtype=object)"
      ]
     },
     "execution_count": 19,
     "metadata": {},
     "output_type": "execute_result"
    }
   ],
   "source": [
    "data[\"Region_Code\"].unique()"
   ]
  },
  {
   "cell_type": "code",
   "execution_count": 20,
   "metadata": {},
   "outputs": [
    {
     "data": {
      "text/plain": [
       "Suburban    4046\n",
       "Rural       1231\n",
       "Urban       1116\n",
       "Name: Region_Code, dtype: int64"
      ]
     },
     "execution_count": 20,
     "metadata": {},
     "output_type": "execute_result"
    }
   ],
   "source": [
    "data[\"Region_Code\"].value_counts()"
   ]
  },
  {
   "cell_type": "code",
   "execution_count": 21,
   "metadata": {},
   "outputs": [
    {
     "data": {
      "text/plain": [
       "array(['Single', 'Married', 'Divorced'], dtype=object)"
      ]
     },
     "execution_count": 21,
     "metadata": {},
     "output_type": "execute_result"
    }
   ],
   "source": [
    "data[\"Marital Status\"].unique()"
   ]
  },
  {
   "cell_type": "code",
   "execution_count": 22,
   "metadata": {},
   "outputs": [
    {
     "data": {
      "text/plain": [
       "Married     3735\n",
       "Single      1682\n",
       "Divorced     976\n",
       "Name: Marital Status, dtype: int64"
      ]
     },
     "execution_count": 22,
     "metadata": {},
     "output_type": "execute_result"
    }
   ],
   "source": [
    "data[\"Marital Status\"].value_counts()"
   ]
  },
  {
   "cell_type": "code",
   "execution_count": 23,
   "metadata": {},
   "outputs": [
    {
     "data": {
      "text/plain": [
       "array(['Kano', 'Abuja', 'Lagos', 'Imo', 'Enugu'], dtype=object)"
      ]
     },
     "execution_count": 23,
     "metadata": {},
     "output_type": "execute_result"
    }
   ],
   "source": [
    "data[\"State_of_Origin\"].unique()"
   ]
  },
  {
   "cell_type": "code",
   "execution_count": 24,
   "metadata": {},
   "outputs": [
    {
     "data": {
      "text/plain": [
       "Lagos    2225\n",
       "Abuja    1819\n",
       "Imo      1158\n",
       "Enugu     646\n",
       "Kano      545\n",
       "Name: State_of_Origin, dtype: int64"
      ]
     },
     "execution_count": 24,
     "metadata": {},
     "output_type": "execute_result"
    }
   ],
   "source": [
    "data[\"State_of_Origin\"].value_counts()"
   ]
  },
  {
   "cell_type": "code",
   "execution_count": 25,
   "metadata": {},
   "outputs": [
    {
     "data": {
      "text/plain": [
       "array([5017.009472, 5151.301306, 4906.894731, ..., 7336.328083,\n",
       "       8994.779137, 3351.639274])"
      ]
     },
     "execution_count": 25,
     "metadata": {},
     "output_type": "execute_result"
    }
   ],
   "source": [
    "data[\"Customer_Worth\"].unique()"
   ]
  },
  {
   "cell_type": "code",
   "execution_count": 26,
   "metadata": {},
   "outputs": [
    {
     "data": {
      "text/plain": [
       "2621.337376     6\n",
       "5991.773931     6\n",
       "2540.626320     6\n",
       "4906.894731     6\n",
       "3646.833554     6\n",
       "               ..\n",
       "15255.264360    1\n",
       "3576.990725     1\n",
       "12233.879680    1\n",
       "4215.918619     1\n",
       "8497.164213     1\n",
       "Name: Customer_Worth, Length: 5711, dtype: int64"
      ]
     },
     "execution_count": 26,
     "metadata": {},
     "output_type": "execute_result"
    }
   ],
   "source": [
    "data[\"Customer_Worth\"].value_counts()"
   ]
  },
  {
   "cell_type": "code",
   "execution_count": 27,
   "metadata": {},
   "outputs": [
    {
     "data": {
      "text/plain": [
       "array(['Interested', 'Not_interested'], dtype=object)"
      ]
     },
     "execution_count": 27,
     "metadata": {},
     "output_type": "execute_result"
    }
   ],
   "source": [
    "data[\"Customer_Reply\"].unique()"
   ]
  },
  {
   "cell_type": "code",
   "execution_count": 28,
   "metadata": {},
   "outputs": [
    {
     "data": {
      "text/plain": [
       "Not_interested    5494\n",
       "Interested         899\n",
       "Name: Customer_Reply, dtype: int64"
      ]
     },
     "execution_count": 28,
     "metadata": {},
     "output_type": "execute_result"
    }
   ],
   "source": [
    "data[\"Customer_Reply\"].value_counts()"
   ]
  },
  {
   "cell_type": "code",
   "execution_count": 29,
   "metadata": {},
   "outputs": [
    {
     "data": {
      "text/plain": [
       "array(['Silver', 'Bronze', 'Gold'], dtype=object)"
      ]
     },
     "execution_count": 29,
     "metadata": {},
     "output_type": "execute_result"
    }
   ],
   "source": [
    "data[\"Plan\"].unique()"
   ]
  },
  {
   "cell_type": "code",
   "execution_count": 30,
   "metadata": {},
   "outputs": [
    {
     "data": {
      "text/plain": [
       "Bronze    3895\n",
       "Silver    1928\n",
       "Gold       570\n",
       "Name: Plan, dtype: int64"
      ]
     },
     "execution_count": 30,
     "metadata": {},
     "output_type": "execute_result"
    }
   ],
   "source": [
    "data[\"Plan\"].value_counts()"
   ]
  },
  {
   "cell_type": "code",
   "execution_count": 31,
   "metadata": {},
   "outputs": [
    {
     "data": {
      "text/plain": [
       "array(['First_Degree', 'HND', 'PHD', 'O_Level', 'Second_Degree'],\n",
       "      dtype=object)"
      ]
     },
     "execution_count": 31,
     "metadata": {},
     "output_type": "execute_result"
    }
   ],
   "source": [
    "data[\"Certification\"].unique()"
   ]
  },
  {
   "cell_type": "code",
   "execution_count": 32,
   "metadata": {},
   "outputs": [
    {
     "data": {
      "text/plain": [
       "First_Degree     1896\n",
       "HND              1880\n",
       "O_Level          1864\n",
       "Second_Degree     500\n",
       "PHD               253\n",
       "Name: Certification, dtype: int64"
      ]
     },
     "execution_count": 32,
     "metadata": {},
     "output_type": "execute_result"
    }
   ],
   "source": [
    "data[\"Certification\"].value_counts()"
   ]
  },
  {
   "cell_type": "code",
   "execution_count": 33,
   "metadata": {},
   "outputs": [
    {
     "data": {
      "text/plain": [
       "array(['3/2/2011', '1/22/11', '2/14/11', '8/1/2011', '2/19/11', '2/17/11',\n",
       "       '1/1/2011', '1/23/11', '5/2/2011', '2/2/2011', '2/13/11',\n",
       "       '2/27/11', '2/20/11', '1/29/11', '12/2/2011', '2/25/11',\n",
       "       '6/1/2011', '1/30/11', '1/13/11', '1/24/11', '2/26/11', '1/16/11',\n",
       "       '2/18/11', '1/27/11', '10/1/2011', '12/1/2011', '2/16/11',\n",
       "       '1/31/11', '1/19/11', '3/1/2011', '2/28/11', '7/2/2011', '2/24/11',\n",
       "       '1/25/11', '4/2/2011', '1/14/11', '11/1/2011', '1/2/2011',\n",
       "       '1/18/11', '5/1/2011', '7/1/2011', '2/23/11', '1/20/11',\n",
       "       '11/2/2011', '1/17/11', '2/22/11', '8/2/2011', '9/1/2011',\n",
       "       '1/21/11', '2/21/11', '9/2/2011', '2/1/2011', '1/28/11',\n",
       "       '4/1/2011', '6/2/2011', '1/26/11', '2/15/11', '10/2/2011',\n",
       "       '1/15/11'], dtype=object)"
      ]
     },
     "execution_count": 33,
     "metadata": {},
     "output_type": "execute_result"
    }
   ],
   "source": [
    "data[\"Effective To Date\"].unique()"
   ]
  },
  {
   "cell_type": "code",
   "execution_count": 34,
   "metadata": {
    "scrolled": true
   },
   "outputs": [
    {
     "data": {
      "text/plain": [
       "10/1/2011    142\n",
       "1/27/11      135\n",
       "2/14/11      133\n",
       "2/19/11      132\n",
       "1/20/11      130\n",
       "1/31/11      129\n",
       "1/26/11      125\n",
       "1/17/11      123\n",
       "1/28/11      123\n",
       "3/1/2011     122\n",
       "5/2/2011     119\n",
       "2/28/11      119\n",
       "1/19/11      118\n",
       "2/26/11      116\n",
       "2/27/11      116\n",
       "12/2/2011    115\n",
       "2/22/11      115\n",
       "4/2/2011     115\n",
       "11/1/2011    113\n",
       "1/1/2011     112\n",
       "1/18/11      112\n",
       "11/2/2011    111\n",
       "1/29/11      111\n",
       "2/1/2011     111\n",
       "1/21/11      109\n",
       "9/1/2011     108\n",
       "1/25/11      108\n",
       "2/18/11      108\n",
       "1/14/11      107\n",
       "10/2/2011    106\n",
       "7/1/2011     106\n",
       "1/24/11      105\n",
       "2/13/11      105\n",
       "1/30/11      104\n",
       "1/15/11      104\n",
       "6/2/2011     104\n",
       "2/23/11      104\n",
       "6/1/2011     104\n",
       "7/2/2011     104\n",
       "2/2/2011     102\n",
       "1/23/11      102\n",
       "1/2/2011     101\n",
       "2/21/11      101\n",
       "1/13/11      101\n",
       "9/2/2011     100\n",
       "5/1/2011      99\n",
       "2/25/11       99\n",
       "2/24/11       99\n",
       "3/2/2011      98\n",
       "1/16/11       96\n",
       "1/22/11       95\n",
       "8/2/2011      95\n",
       "2/16/11       92\n",
       "2/17/11       92\n",
       "2/20/11       92\n",
       "8/1/2011      91\n",
       "2/15/11       90\n",
       "12/1/2011     85\n",
       "4/1/2011      80\n",
       "Name: Effective To Date, dtype: int64"
      ]
     },
     "execution_count": 34,
     "metadata": {},
     "output_type": "execute_result"
    }
   ],
   "source": [
    "data[\"Effective To Date\"].value_counts()"
   ]
  },
  {
   "cell_type": "code",
   "execution_count": 35,
   "metadata": {
    "scrolled": false
   },
   "outputs": [
    {
     "data": {
      "image/png": "[encoded data removed]",
      "text/plain": [
       "<Figure size 1800x540 with 1 Axes>"
      ]
     },
     "metadata": {
      "needs_background": "light"
     },
     "output_type": "display_data"
    }
   ],
   "source": [
    "plt.figure(figsize=(25, 7.5))\n",
    "data[\"Effective To Date\"].value_counts().sort_index().plot.bar();"
   ]
  },
  {
   "cell_type": "code",
   "execution_count": 36,
   "metadata": {},
   "outputs": [
    {
     "data": {
      "text/plain": [
       "array(['Fully_Employed', 'In_Retirement', 'Not_employed', 'Disabled',\n",
       "       'On_Leave'], dtype=object)"
      ]
     },
     "execution_count": 36,
     "metadata": {},
     "output_type": "execute_result"
    }
   ],
   "source": [
    "data[\"Status_of_Employment\"].unique()"
   ]
  },
  {
   "cell_type": "code",
   "execution_count": 37,
   "metadata": {},
   "outputs": [
    {
     "data": {
      "text/plain": [
       "Fully_Employed    4005\n",
       "Not_employed      1584\n",
       "On_Leave           304\n",
       "Disabled           295\n",
       "In_Retirement      205\n",
       "Name: Status_of_Employment, dtype: int64"
      ]
     },
     "execution_count": 37,
     "metadata": {},
     "output_type": "execute_result"
    }
   ],
   "source": [
    "data[\"Status_of_Employment\"].value_counts()"
   ]
  },
  {
   "cell_type": "code",
   "execution_count": 38,
   "metadata": {},
   "outputs": [
    {
     "data": {
      "text/plain": [
       "array(['SUV', 'Sports Car', 'Four-Door Car', 'Two-Door Car', 'Luxury Car',\n",
       "       'Luxury SUV'], dtype=object)"
      ]
     },
     "execution_count": 38,
     "metadata": {},
     "output_type": "execute_result"
    }
   ],
   "source": [
    "data[\"Vehicle Class\"].unique()"
   ]
  },
  {
   "cell_type": "code",
   "execution_count": 39,
   "metadata": {},
   "outputs": [
    {
     "data": {
      "text/plain": [
       "Four-Door Car    3221\n",
       "Two-Door Car     1316\n",
       "SUV              1264\n",
       "Sports Car        336\n",
       "Luxury Car        128\n",
       "Luxury SUV        128\n",
       "Name: Vehicle Class, dtype: int64"
      ]
     },
     "execution_count": 39,
     "metadata": {},
     "output_type": "execute_result"
    }
   ],
   "source": [
    "data[\"Vehicle Class\"].value_counts()"
   ]
  },
  {
   "cell_type": "code",
   "execution_count": 40,
   "metadata": {},
   "outputs": [
    {
     "data": {
      "text/plain": [
       "array(['Medsize', 'Small', 'Large'], dtype=object)"
      ]
     },
     "execution_count": 40,
     "metadata": {},
     "output_type": "execute_result"
    }
   ],
   "source": [
    "data[\"Vehicle Size\"].unique()"
   ]
  },
  {
   "cell_type": "code",
   "execution_count": 41,
   "metadata": {},
   "outputs": [
    {
     "data": {
      "text/plain": [
       "Medsize    4501\n",
       "Small      1235\n",
       "Large       657\n",
       "Name: Vehicle Size, dtype: int64"
      ]
     },
     "execution_count": 41,
     "metadata": {},
     "output_type": "execute_result"
    }
   ],
   "source": [
    "data[\"Vehicle Size\"].value_counts()"
   ]
  },
  {
   "cell_type": "code",
   "execution_count": 42,
   "metadata": {},
   "outputs": [
    {
     "data": {
      "text/plain": [
       "array([ 0,  2,  6,  4,  8, 10], dtype=int64)"
      ]
     },
     "execution_count": 42,
     "metadata": {},
     "output_type": "execute_result"
    }
   ],
   "source": [
    "data[\"Counts_of_Open_Complaints\"].unique()"
   ]
  },
  {
   "cell_type": "code",
   "execution_count": 43,
   "metadata": {},
   "outputs": [
    {
     "data": {
      "text/plain": [
       "0     5097\n",
       "2      696\n",
       "4      239\n",
       "6      208\n",
       "8      107\n",
       "10      46\n",
       "Name: Counts_of_Open_Complaints, dtype: int64"
      ]
     },
     "execution_count": 43,
     "metadata": {},
     "output_type": "execute_result"
    }
   ],
   "source": [
    "data[\"Counts_of_Open_Complaints\"].value_counts()"
   ]
  },
  {
   "cell_type": "code",
   "execution_count": 44,
   "metadata": {},
   "outputs": [
    {
     "data": {
      "text/plain": [
       "array([1, 8, 3, 2, 7, 5, 6, 4, 9], dtype=int64)"
      ]
     },
     "execution_count": 44,
     "metadata": {},
     "output_type": "execute_result"
    }
   ],
   "source": [
    "data[\"No_Of_POlicy\"].unique()"
   ]
  },
  {
   "cell_type": "code",
   "execution_count": 45,
   "metadata": {},
   "outputs": [
    {
     "data": {
      "text/plain": [
       "1    2250\n",
       "2    1613\n",
       "3     816\n",
       "7     310\n",
       "9     292\n",
       "4     285\n",
       "5     283\n",
       "8     275\n",
       "6     269\n",
       "Name: No_Of_POlicy, dtype: int64"
      ]
     },
     "execution_count": 45,
     "metadata": {},
     "output_type": "execute_result"
    }
   ],
   "source": [
    "data[\"No_Of_POlicy\"].value_counts()"
   ]
  },
  {
   "cell_type": "code",
   "execution_count": 46,
   "metadata": {},
   "outputs": [
    {
     "data": {
      "text/plain": [
       "array(['Corporate', 'Personal', 'Special'], dtype=object)"
      ]
     },
     "execution_count": 46,
     "metadata": {},
     "output_type": "execute_result"
    }
   ],
   "source": [
    "data[\"kind_of_policy\"].unique()"
   ]
  },
  {
   "cell_type": "code",
   "execution_count": 47,
   "metadata": {},
   "outputs": [
    {
     "data": {
      "text/plain": [
       "Personal     4774\n",
       "Corporate    1347\n",
       "Special       272\n",
       "Name: kind_of_policy, dtype: int64"
      ]
     },
     "execution_count": 47,
     "metadata": {},
     "output_type": "execute_result"
    }
   ],
   "source": [
    "data[\"kind_of_policy\"].value_counts()"
   ]
  },
  {
   "cell_type": "code",
   "execution_count": 48,
   "metadata": {},
   "outputs": [
    {
     "data": {
      "text/plain": [
       "array(['C_L2', 'P_L2', 'P_L3', 'P_L1', 'C_L3', 'C_L1', 'S_L1', 'S_L3',\n",
       "       'S_L2'], dtype=object)"
      ]
     },
     "execution_count": 48,
     "metadata": {},
     "output_type": "execute_result"
    }
   ],
   "source": [
    "data[\"Active_Policy\"].unique()"
   ]
  },
  {
   "cell_type": "code",
   "execution_count": 49,
   "metadata": {},
   "outputs": [
    {
     "data": {
      "text/plain": [
       "P_L3    2409\n",
       "P_L2    1483\n",
       "P_L1     882\n",
       "C_L3     683\n",
       "C_L2     418\n",
       "C_L1     246\n",
       "S_L2     116\n",
       "S_L3     107\n",
       "S_L1      49\n",
       "Name: Active_Policy, dtype: int64"
      ]
     },
     "execution_count": 49,
     "metadata": {},
     "output_type": "execute_result"
    }
   ],
   "source": [
    "data[\"Active_Policy\"].value_counts()"
   ]
  },
  {
   "cell_type": "code",
   "execution_count": 50,
   "metadata": {},
   "outputs": [
    {
     "data": {
      "text/plain": [
       "array(['Agent', 'Branch', 'Call Center', 'Web'], dtype=object)"
      ]
     },
     "execution_count": 50,
     "metadata": {},
     "output_type": "execute_result"
    }
   ],
   "source": [
    "data[\"Sales Channel\"].unique()"
   ]
  },
  {
   "cell_type": "code",
   "execution_count": 51,
   "metadata": {},
   "outputs": [
    {
     "data": {
      "text/plain": [
       "Agent          2437\n",
       "Branch         1783\n",
       "Call Center    1247\n",
       "Web             926\n",
       "Name: Sales Channel, dtype: int64"
      ]
     },
     "execution_count": 51,
     "metadata": {},
     "output_type": "execute_result"
    }
   ],
   "source": [
    "data[\"Sales Channel\"].value_counts()"
   ]
  },
  {
   "cell_type": "code",
   "execution_count": 52,
   "metadata": {},
   "outputs": [
    {
     "data": {
      "text/plain": [
       "array([1, 3, 0, 2], dtype=int64)"
      ]
     },
     "execution_count": 52,
     "metadata": {},
     "output_type": "execute_result"
    }
   ],
   "source": [
    "data[\"Best_Offer\"].unique()"
   ]
  },
  {
   "cell_type": "code",
   "execution_count": 53,
   "metadata": {},
   "outputs": [
    {
     "data": {
      "text/plain": [
       "0    2640\n",
       "1    2046\n",
       "2     977\n",
       "3     730\n",
       "Name: Best_Offer, dtype: int64"
      ]
     },
     "execution_count": 53,
     "metadata": {},
     "output_type": "execute_result"
    }
   ],
   "source": [
    "data[\"Best_Offer\"].value_counts()"
   ]
  },
  {
   "cell_type": "code",
   "execution_count": 54,
   "metadata": {
    "scrolled": true
   },
   "outputs": [
    {
     "data": {
      "text/html": [
       "<div>\n",
       "<style scoped>\n",
       "    .dataframe tbody tr th:only-of-type {\n",
       "        vertical-align: middle;\n",
       "    }\n",
       "\n",
       "    .dataframe tbody tr th {\n",
       "        vertical-align: top;\n",
       "    }\n",
       "\n",
       "    .dataframe thead th {\n",
       "        text-align: right;\n",
       "    }\n",
       "</style>\n",
       "<table border=\"1\" class=\"dataframe\">\n",
       "  <thead>\n",
       "    <tr style=\"text-align: right;\">\n",
       "      <th></th>\n",
       "      <th>Earnings</th>\n",
       "      <th>Customer_Worth</th>\n",
       "      <th>Premium_Auto_per_Month</th>\n",
       "      <th>Total Claim Amount</th>\n",
       "      <th>Months Since Last Claim</th>\n",
       "      <th>Months Since Policy Inception</th>\n",
       "      <th>Counts_of_Open_Complaints</th>\n",
       "      <th>No_Of_POlicy</th>\n",
       "      <th>Best_Offer</th>\n",
       "    </tr>\n",
       "  </thead>\n",
       "  <tbody>\n",
       "    <tr>\n",
       "      <th>Earnings</th>\n",
       "      <td>1.000000</td>\n",
       "      <td>0.021600</td>\n",
       "      <td>-0.021647</td>\n",
       "      <td>-0.355120</td>\n",
       "      <td>-0.018953</td>\n",
       "      <td>0.000156</td>\n",
       "      <td>0.011088</td>\n",
       "      <td>-0.004603</td>\n",
       "      <td>0.140847</td>\n",
       "    </tr>\n",
       "    <tr>\n",
       "      <th>Customer_Worth</th>\n",
       "      <td>0.021600</td>\n",
       "      <td>1.000000</td>\n",
       "      <td>0.397330</td>\n",
       "      <td>0.236922</td>\n",
       "      <td>0.012501</td>\n",
       "      <td>0.022831</td>\n",
       "      <td>-0.044684</td>\n",
       "      <td>0.022783</td>\n",
       "      <td>-0.075192</td>\n",
       "    </tr>\n",
       "    <tr>\n",
       "      <th>Premium_Auto_per_Month</th>\n",
       "      <td>-0.021647</td>\n",
       "      <td>0.397330</td>\n",
       "      <td>1.000000</td>\n",
       "      <td>0.634102</td>\n",
       "      <td>0.002220</td>\n",
       "      <td>0.020411</td>\n",
       "      <td>-0.015891</td>\n",
       "      <td>-0.013794</td>\n",
       "      <td>-0.080059</td>\n",
       "    </tr>\n",
       "    <tr>\n",
       "      <th>Total Claim Amount</th>\n",
       "      <td>-0.355120</td>\n",
       "      <td>0.236922</td>\n",
       "      <td>0.634102</td>\n",
       "      <td>1.000000</td>\n",
       "      <td>0.004859</td>\n",
       "      <td>0.004426</td>\n",
       "      <td>-0.013676</td>\n",
       "      <td>-0.000745</td>\n",
       "      <td>-0.101028</td>\n",
       "    </tr>\n",
       "    <tr>\n",
       "      <th>Months Since Last Claim</th>\n",
       "      <td>-0.018953</td>\n",
       "      <td>0.012501</td>\n",
       "      <td>0.002220</td>\n",
       "      <td>0.004859</td>\n",
       "      <td>1.000000</td>\n",
       "      <td>-0.042053</td>\n",
       "      <td>-0.004648</td>\n",
       "      <td>0.001456</td>\n",
       "      <td>-0.001296</td>\n",
       "    </tr>\n",
       "    <tr>\n",
       "      <th>Months Since Policy Inception</th>\n",
       "      <td>0.000156</td>\n",
       "      <td>0.022831</td>\n",
       "      <td>0.020411</td>\n",
       "      <td>0.004426</td>\n",
       "      <td>-0.042053</td>\n",
       "      <td>1.000000</td>\n",
       "      <td>-0.004945</td>\n",
       "      <td>-0.008449</td>\n",
       "      <td>-0.088650</td>\n",
       "    </tr>\n",
       "    <tr>\n",
       "      <th>Counts_of_Open_Complaints</th>\n",
       "      <td>0.011088</td>\n",
       "      <td>-0.044684</td>\n",
       "      <td>-0.015891</td>\n",
       "      <td>-0.013676</td>\n",
       "      <td>-0.004648</td>\n",
       "      <td>-0.004945</td>\n",
       "      <td>1.000000</td>\n",
       "      <td>-0.017468</td>\n",
       "      <td>-0.028014</td>\n",
       "    </tr>\n",
       "    <tr>\n",
       "      <th>No_Of_POlicy</th>\n",
       "      <td>-0.004603</td>\n",
       "      <td>0.022783</td>\n",
       "      <td>-0.013794</td>\n",
       "      <td>-0.000745</td>\n",
       "      <td>0.001456</td>\n",
       "      <td>-0.008449</td>\n",
       "      <td>-0.017468</td>\n",
       "      <td>1.000000</td>\n",
       "      <td>-0.079268</td>\n",
       "    </tr>\n",
       "    <tr>\n",
       "      <th>Best_Offer</th>\n",
       "      <td>0.140847</td>\n",
       "      <td>-0.075192</td>\n",
       "      <td>-0.080059</td>\n",
       "      <td>-0.101028</td>\n",
       "      <td>-0.001296</td>\n",
       "      <td>-0.088650</td>\n",
       "      <td>-0.028014</td>\n",
       "      <td>-0.079268</td>\n",
       "      <td>1.000000</td>\n",
       "    </tr>\n",
       "  </tbody>\n",
       "</table>\n",
       "</div>"
      ],
      "text/plain": [
       "                               Earnings  Customer_Worth  \\\n",
       "Earnings                       1.000000        0.021600   \n",
       "Customer_Worth                 0.021600        1.000000   \n",
       "Premium_Auto_per_Month        -0.021647        0.397330   \n",
       "Total Claim Amount            -0.355120        0.236922   \n",
       "Months Since Last Claim       -0.018953        0.012501   \n",
       "Months Since Policy Inception  0.000156        0.022831   \n",
       "Counts_of_Open_Complaints      0.011088       -0.044684   \n",
       "No_Of_POlicy                  -0.004603        0.022783   \n",
       "Best_Offer                     0.140847       -0.075192   \n",
       "\n",
       "                               Premium_Auto_per_Month  Total Claim Amount  \\\n",
       "Earnings                                    -0.021647           -0.355120   \n",
       "Customer_Worth                               0.397330            0.236922   \n",
       "Premium_Auto_per_Month                       1.000000            0.634102   \n",
       "Total Claim Amount                           0.634102            1.000000   \n",
       "Months Since Last Claim                      0.002220            0.004859   \n",
       "Months Since Policy Inception                0.020411            0.004426   \n",
       "Counts_of_Open_Complaints                   -0.015891           -0.013676   \n",
       "No_Of_POlicy                                -0.013794           -0.000745   \n",
       "Best_Offer                                  -0.080059           -0.101028   \n",
       "\n",
       "                               Months Since Last Claim  \\\n",
       "Earnings                                     -0.018953   \n",
       "Customer_Worth                                0.012501   \n",
       "Premium_Auto_per_Month                        0.002220   \n",
       "Total Claim Amount                            0.004859   \n",
       "Months Since Last Claim                       1.000000   \n",
       "Months Since Policy Inception                -0.042053   \n",
       "Counts_of_Open_Complaints                    -0.004648   \n",
       "No_Of_POlicy                                  0.001456   \n",
       "Best_Offer                                   -0.001296   \n",
       "\n",
       "                               Months Since Policy Inception  \\\n",
       "Earnings                                            0.000156   \n",
       "Customer_Worth                                      0.022831   \n",
       "Premium_Auto_per_Month                              0.020411   \n",
       "Total Claim Amount                                  0.004426   \n",
       "Months Since Last Claim                            -0.042053   \n",
       "Months Since Policy Inception                       1.000000   \n",
       "Counts_of_Open_Complaints                          -0.004945   \n",
       "No_Of_POlicy                                       -0.008449   \n",
       "Best_Offer                                         -0.088650   \n",
       "\n",
       "                               Counts_of_Open_Complaints  No_Of_POlicy  \\\n",
       "Earnings                                        0.011088     -0.004603   \n",
       "Customer_Worth                                 -0.044684      0.022783   \n",
       "Premium_Auto_per_Month                         -0.015891     -0.013794   \n",
       "Total Claim Amount                             -0.013676     -0.000745   \n",
       "Months Since Last Claim                        -0.004648      0.001456   \n",
       "Months Since Policy Inception                  -0.004945     -0.008449   \n",
       "Counts_of_Open_Complaints                       1.000000     -0.017468   \n",
       "No_Of_POlicy                                   -0.017468      1.000000   \n",
       "Best_Offer                                     -0.028014     -0.079268   \n",
       "\n",
       "                               Best_Offer  \n",
       "Earnings                         0.140847  \n",
       "Customer_Worth                  -0.075192  \n",
       "Premium_Auto_per_Month          -0.080059  \n",
       "Total Claim Amount              -0.101028  \n",
       "Months Since Last Claim         -0.001296  \n",
       "Months Since Policy Inception   -0.088650  \n",
       "Counts_of_Open_Complaints       -0.028014  \n",
       "No_Of_POlicy                    -0.079268  \n",
       "Best_Offer                       1.000000  "
      ]
     },
     "execution_count": 54,
     "metadata": {},
     "output_type": "execute_result"
    }
   ],
   "source": [
    "data.corr()"
   ]
  },
  {
   "cell_type": "markdown",
   "metadata": {},
   "source": [
    "## Preparing the Data for the required transformation necessary for Machine Learning"
   ]
  },
  {
   "cell_type": "code",
   "execution_count": 55,
   "metadata": {},
   "outputs": [],
   "source": [
    "categoryOneHotEncoding = [\"Sex\", \"Customer_Reply\", \"Region_Code\", \"Marital Status\", \"State_of_Origin\", \"Plan\", \"Certification\", \"Status_of_Employment\", \"Vehicle Class\", \"Vehicle Size\", \"kind_of_policy\", \"Active_Policy\", \"Sales Channel\"]\n",
    "\n",
    "numericalScaling = [\"Earnings\", \"Customer_Worth\", \"Premium_Auto_per_Month\", \"Total Claim Amount\", \"Months Since Last Claim\", \"Months Since Policy Inception\", \"Counts_of_Open_Complaints\", \"No_Of_POlicy\"]\n",
    "\n",
    "toBeEvalAndTrans = [\"Effective To Date\"]"
   ]
  },
  {
   "cell_type": "code",
   "execution_count": 56,
   "metadata": {},
   "outputs": [],
   "source": [
    "y = data[\"Best_Offer\"]"
   ]
  },
  {
   "cell_type": "code",
   "execution_count": 57,
   "metadata": {},
   "outputs": [
    {
     "name": "stdout",
     "output_type": "stream",
     "text": [
      "C:\\Users\\HP\n",
      "C:\\Users\\HP\\Desktop\\WQU\\TDI (WQU)\\Random Files\\DSN Hackathon\\KPMG\\Task 1\n",
      "C:\\Users\\HP\n",
      "C:\\Users\\HP\\Desktop\\WQU\\dsn-prebootcamp-2021\n"
     ]
    }
   ],
   "source": [
    "%pwd\n",
    "%cd\n",
    "%cd Desktop/WQU/TDI (WQU)/Random Files/DSN Hackathon/KPMG/Task 1\n",
    "%pwd\n",
    "from sklearn_classes import CreateCategoricals, SelectColumns\n",
    "%cd\n",
    "%cd Desktop/WQU/dsn-prebootcamp-2021"
   ]
  },
  {
   "cell_type": "code",
   "execution_count": 58,
   "metadata": {},
   "outputs": [],
   "source": [
    "hotEncodingPipeline = Pipeline([(\"selectCategories\", SelectColumns(categoryOneHotEncoding)), (\"oneHotEncode\", OneHotEncoder(sparse=False))])"
   ]
  },
  {
   "cell_type": "code",
   "execution_count": 59,
   "metadata": {},
   "outputs": [],
   "source": [
    "scaledNumericalPipeline = Pipeline([(\"selectNumericals\", SelectColumns(numericalScaling)), (\"scaledData\", StandardScaler())])"
   ]
  },
  {
   "cell_type": "code",
   "execution_count": 60,
   "metadata": {},
   "outputs": [],
   "source": [
    "class CreateAdditionalColumns(BaseEstimator, TransformerMixin) :\n",
    "    \n",
    "    def __init__(self, added_column, formula) :\n",
    "        self.added_column = added_column\n",
    "        self.formula = formula\n",
    "        \n",
    "        \n",
    "    def fit(self, X, y = None) :\n",
    "        \n",
    "        return self\n",
    "    \n",
    "    \n",
    "    def transform(self, X) :\n",
    "        \n",
    "        X[self.added_column] = eval(self.formula)\n",
    "        new_column = np.array(X.loc[:, self.added_column]).reshape(-1, 1)\n",
    "        \n",
    "        return new_column"
   ]
  },
  {
   "cell_type": "code",
   "execution_count": 61,
   "metadata": {},
   "outputs": [],
   "source": [
    "formula = \"data['Effective To Date'].apply(lambda x: monthDict[int(x[0 : x.index('/')])])\"\n",
    "monthDict = {1 : \"Jan\", 2 : \"Feb\", 3 : \"Mar\", 4 : \"Apr\", 5 : \"May\", 6 : \"Jun\", 7 : \"Jul\", 8 : \"Aug\", 9 : \"Sept\", 10 : \"Oct\", 11 : \"Nov\", 12 : \"Dec\"}\n",
    "transformEncodePipeline = Pipeline([(\"columnTransform\", SelectColumns(toBeEvalAndTrans)), (\"tranformedColumn\", CreateAdditionalColumns(\"EffectiveToDate\", formula)), (\"encode\", OneHotEncoder(sparse = False))])"
   ]
  },
  {
   "cell_type": "code",
   "execution_count": 62,
   "metadata": {
    "scrolled": true
   },
   "outputs": [],
   "source": [
    "union = Pipeline([(\"union\", FeatureUnion([(\"hotEncoded\", hotEncodingPipeline), (\"scaled\", scaledNumericalPipeline), (\"transformedEncoded\", transformEncodePipeline)])), (\"poly\", PolynomialFeatures())])"
   ]
  },
  {
   "cell_type": "code",
   "execution_count": 63,
   "metadata": {},
   "outputs": [
    {
     "data": {
      "text/plain": [
       "(6393, 2775)"
      ]
     },
     "execution_count": 63,
     "metadata": {},
     "output_type": "execute_result"
    }
   ],
   "source": [
    "X = union.fit_transform(data)\n",
    "X.shape"
   ]
  },
  {
   "cell_type": "code",
   "execution_count": 64,
   "metadata": {},
   "outputs": [
    {
     "name": "stdout",
     "output_type": "stream",
     "text": [
      "x_train_shape => (5114, 2775)\n",
      "\n",
      "y_train_shape => (5114,)\n",
      "\n",
      "x_test_shape => (1279, 2775)\n",
      "\n",
      "y_test_shape => (1279,)\n"
     ]
    }
   ],
   "source": [
    "x_train, x_test, y_train, y_test = train_test_split(X, y, test_size = 0.2, random_state = 42)\n",
    "print(f\"x_train_shape => {x_train.shape}\\n\\ny_train_shape => {y_train.shape}\\n\\nx_test_shape => {x_test.shape}\\n\\ny_test_shape => {y_test.shape}\")"
   ]
  },
  {
   "cell_type": "markdown",
   "metadata": {},
   "source": [
    "## Building Machine Learning Models"
   ]
  },
  {
   "cell_type": "code",
   "execution_count": 65,
   "metadata": {},
   "outputs": [
    {
     "name": "stderr",
     "output_type": "stream",
     "text": [
      "[Parallel(n_jobs=-1)]: Using backend ThreadingBackend with 2 concurrent workers.\n",
      "[Parallel(n_jobs=-1)]: Done  46 tasks      | elapsed:   60.0s\n",
      "[Parallel(n_jobs=-1)]: Done 171 out of 171 | elapsed:  4.1min finished\n"
     ]
    },
    {
     "name": "stdout",
     "output_type": "stream",
     "text": [
      "Wall time: 4min 12s\n"
     ]
    },
    {
     "data": {
      "text/plain": [
       "RandomForestClassifier(max_depth=11, max_features=850, max_leaf_nodes=220,\n",
       "                       min_samples_split=4, n_estimators=171, n_jobs=-1,\n",
       "                       oob_score=True, random_state=0, verbose=1)"
      ]
     },
     "execution_count": 65,
     "metadata": {},
     "output_type": "execute_result"
    }
   ],
   "source": [
    "%%time\n",
    "forestModel = RandomForestClassifier(n_estimators= 171, min_samples_split=4, max_depth=11, max_leaf_nodes = 220, max_features=850, oob_score=True, random_state=0, n_jobs = -1, verbose = 1)\n",
    "forestModel.fit(x_train, y_train)"
   ]
  },
  {
   "cell_type": "code",
   "execution_count": 66,
   "metadata": {},
   "outputs": [
    {
     "data": {
      "text/plain": [
       "0.5481032459913961"
      ]
     },
     "execution_count": 66,
     "metadata": {},
     "output_type": "execute_result"
    }
   ],
   "source": [
    "forestModel.oob_score_"
   ]
  },
  {
   "cell_type": "code",
   "execution_count": 67,
   "metadata": {},
   "outputs": [
    {
     "name": "stderr",
     "output_type": "stream",
     "text": [
      "[Parallel(n_jobs=2)]: Using backend ThreadingBackend with 2 concurrent workers.\n",
      "[Parallel(n_jobs=2)]: Done  46 tasks      | elapsed:    0.0s\n",
      "[Parallel(n_jobs=2)]: Done 171 out of 171 | elapsed:    0.1s finished\n"
     ]
    }
   ],
   "source": [
    "forestPredict = forestModel.predict(x_test)"
   ]
  },
  {
   "cell_type": "code",
   "execution_count": 68,
   "metadata": {
    "scrolled": true
   },
   "outputs": [
    {
     "name": "stderr",
     "output_type": "stream",
     "text": [
      "[Parallel(n_jobs=2)]: Using backend ThreadingBackend with 2 concurrent workers.\n",
      "[Parallel(n_jobs=2)]: Done  46 tasks      | elapsed:    0.1s\n",
      "[Parallel(n_jobs=2)]: Done 171 out of 171 | elapsed:    0.6s finished\n"
     ]
    },
    {
     "data": {
      "text/plain": [
       "0.7692608525615956"
      ]
     },
     "execution_count": 68,
     "metadata": {},
     "output_type": "execute_result"
    }
   ],
   "source": [
    "accuracy_score(forestModel.predict(x_train), y_train)"
   ]
  },
  {
   "cell_type": "code",
   "execution_count": 69,
   "metadata": {},
   "outputs": [
    {
     "data": {
      "text/plain": [
       "0.547302580140735"
      ]
     },
     "execution_count": 69,
     "metadata": {},
     "output_type": "execute_result"
    }
   ],
   "source": [
    "forestAccuracy = accuracy_score(y_test, forestPredict)\n",
    "forestAccuracy"
   ]
  },
  {
   "cell_type": "code",
   "execution_count": 70,
   "metadata": {},
   "outputs": [
    {
     "data": {
      "text/plain": [
       "(2741, 2775)"
      ]
     },
     "execution_count": 70,
     "metadata": {},
     "output_type": "execute_result"
    }
   ],
   "source": [
    "testData = union.transform(test_data)\n",
    "testData.shape"
   ]
  },
  {
   "cell_type": "code",
   "execution_count": 71,
   "metadata": {},
   "outputs": [
    {
     "name": "stderr",
     "output_type": "stream",
     "text": [
      "[Parallel(n_jobs=2)]: Using backend ThreadingBackend with 2 concurrent workers.\n",
      "[Parallel(n_jobs=2)]: Done  46 tasks      | elapsed:    0.0s\n",
      "[Parallel(n_jobs=2)]: Done 171 out of 171 | elapsed:    0.3s finished\n"
     ]
    }
   ],
   "source": [
    "testPredict = forestModel.predict(testData)"
   ]
  },
  {
   "cell_type": "code",
   "execution_count": 72,
   "metadata": {},
   "outputs": [],
   "source": [
    "dataDict = {\"Customer_ID\" : test_data[\"Customer_ID\"], \"Best_Offer\" : testPredict}\n",
    "submData = pd.DataFrame(dataDict)"
   ]
  },
  {
   "cell_type": "code",
   "execution_count": 73,
   "metadata": {},
   "outputs": [],
   "source": [
    "#submData.to_csv(\"forestModel.csv\", index=False)\n",
    "\n",
    "#submData[\"Best_Offer\"].value_counts()"
   ]
  },
  {
   "cell_type": "markdown",
   "metadata": {},
   "source": [
    "This model gave me an accuracy score of 0.54730 on the notebook.\n",
    "\n",
    "And it ranked me a score of 0.55321 on the competition submission, which takes me to the 2nd position on the Public Leaderboard. of the  Kaggle competition.\n",
    "\n",
    "On the Private leaderboard, at the end of the competition, this model ranked 13th position on the Kaggle Competition."
   ]
  },
  {
   "cell_type": "code",
   "execution_count": null,
   "metadata": {},
   "outputs": [],
   "source": []
  }
 ],
 "metadata": {
  "kernelspec": {
   "display_name": "Python 3",
   "language": "python",
   "name": "python3"
  },
  "language_info": {
   "codemirror_mode": {
    "name": "ipython",
    "version": 3
   },
   "file_extension": ".py",
   "mimetype": "text/x-python",
   "name": "python",
   "nbconvert_exporter": "python",
   "pygments_lexer": "ipython3",
   "version": "3.8.5"
  }
 },
 "nbformat": 4,
 "nbformat_minor": 4
}
